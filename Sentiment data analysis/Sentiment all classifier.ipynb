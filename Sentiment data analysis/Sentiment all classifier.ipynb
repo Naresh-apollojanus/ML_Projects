{
 "cells": [
  {
   "cell_type": "code",
   "execution_count": 1,
   "metadata": {},
   "outputs": [],
   "source": [
    "import pandas as pd\n",
    "import numpy as np\n",
    "import matplotlib.pyplot as plt"
   ]
  },
  {
   "cell_type": "code",
   "execution_count": 2,
   "metadata": {},
   "outputs": [],
   "source": [
    "df_xtrain = pd.read_csv('sentiment_5_class_train.csv')\n",
    "df_xtest = pd.read_csv('sentiment_5_class_test.csv')"
   ]
  },
  {
   "cell_type": "code",
   "execution_count": 3,
   "metadata": {},
   "outputs": [],
   "source": [
    "df_xtest['Sentiment'].replace([0,1,2,3,4],['1-star','2-star','3-star','4-star','5-star'], inplace = True)\n",
    "df_xtrain['Sentiment'].replace([0,1,2,3,4],['1-star','2-star','3-star','4-star','5-star'], inplace = True)\n",
    "#df_xtrain"
   ]
  },
  {
   "cell_type": "code",
   "execution_count": 4,
   "metadata": {},
   "outputs": [
    {
     "data": {
      "text/plain": [
       "Phrase       0\n",
       "Sentiment    0\n",
       "dtype: int64"
      ]
     },
     "execution_count": 4,
     "metadata": {},
     "output_type": "execute_result"
    }
   ],
   "source": [
    "df_xtrain['Sentiment'].value_counts()\n",
    "df = pd.concat([df_xtrain, df_xtest])\n",
    "df.isnull().sum()\n",
    "#no null values"
   ]
  },
  {
   "cell_type": "code",
   "execution_count": 5,
   "metadata": {},
   "outputs": [],
   "source": [
    "# from pandas_profiling import ProfileReport\n",
    "# profile = ProfileReport(df_xtrain)"
   ]
  },
  {
   "cell_type": "code",
   "execution_count": 6,
   "metadata": {},
   "outputs": [],
   "source": [
    "x_train = df_xtrain.drop(columns='Sentiment')"
   ]
  },
  {
   "cell_type": "code",
   "execution_count": 7,
   "metadata": {},
   "outputs": [],
   "source": [
    "y_train = df_xtrain['Sentiment']"
   ]
  },
  {
   "cell_type": "code",
   "execution_count": 8,
   "metadata": {},
   "outputs": [],
   "source": [
    "x_test = df_xtest.drop(columns='Sentiment')\n",
    "y_test = df_xtest['Sentiment']\n",
    "#when one column is choosen from dataframe it will be converted to series\n"
   ]
  },
  {
   "cell_type": "code",
   "execution_count": 9,
   "metadata": {},
   "outputs": [
    {
     "data": {
      "text/plain": [
       "(3678,)"
      ]
     },
     "execution_count": 9,
     "metadata": {},
     "output_type": "execute_result"
    }
   ],
   "source": [
    "y_test.shape"
   ]
  },
  {
   "cell_type": "code",
   "execution_count": 10,
   "metadata": {},
   "outputs": [
    {
     "data": {
      "text/plain": [
       "array([[0., 0., 0., ..., 0., 0., 0.],\n",
       "       [0., 0., 0., ..., 0., 0., 0.],\n",
       "       [0., 0., 0., ..., 0., 0., 0.],\n",
       "       ...,\n",
       "       [0., 0., 0., ..., 0., 0., 0.],\n",
       "       [0., 0., 0., ..., 0., 0., 0.],\n",
       "       [0., 0., 0., ..., 0., 0., 0.]])"
      ]
     },
     "execution_count": 10,
     "metadata": {},
     "output_type": "execute_result"
    }
   ],
   "source": [
    "from sklearn.feature_extraction.text import TfidfVectorizer\n",
    "encoded = TfidfVectorizer()\n",
    "encoded.fit(x_train['Phrase']) #vocab, calculation\n",
    "final_Xtrain= encoded.transform(x_train['Phrase'])\n",
    "final_Xtrain.toarray()\n",
    "#encoded_fearures.shape\n"
   ]
  },
  {
   "cell_type": "code",
   "execution_count": 11,
   "metadata": {},
   "outputs": [
    {
     "data": {
      "text/plain": [
       "(3678, 7115)"
      ]
     },
     "execution_count": 11,
     "metadata": {},
     "output_type": "execute_result"
    }
   ],
   "source": [
    "final_Xtest = encoded.transform(x_test['Phrase'])\n",
    "final_Xtest.toarray()\n",
    "final_Xtest.shape"
   ]
  },
  {
   "cell_type": "code",
   "execution_count": 12,
   "metadata": {},
   "outputs": [],
   "source": [
    "from sklearn.tree import DecisionTreeClassifier\n",
    "from sklearn.ensemble import RandomForestClassifier, ExtraTreesClassifier, AdaBoostClassifier, GradientBoostingClassifier\n",
    "from sklearn.model_selection import GridSearchCV\n",
    "from sklearn import metrics\n",
    "from sklearn.metrics import accuracy_score\n",
    "from sklearn.svm import SVC"
   ]
  },
  {
   "cell_type": "code",
   "execution_count": 13,
   "metadata": {},
   "outputs": [],
   "source": [
    "many_class_hyper = [\n",
    "\n",
    "    (SVC,\n",
    "     {\n",
    "        'kernel':('linear', 'rbf'), 'C': (1,10,5)\n",
    "     }\n",
    "    ),\n",
    "\n",
    "\n",
    "    (DecisionTreeClassifier,\n",
    "     {\n",
    "        'max_depth': (2,3,5,8,6,4),\n",
    "         'min_samples_leaf' : (12, 8, 2,14) #5% of 242\n",
    "     }\n",
    "    ), \n",
    "\n",
    "\n",
    "\n",
    "    (RandomForestClassifier ,\n",
    "     {\n",
    "        'n_estimators': (10,50,100), \n",
    "        'max_features': (1,0.5,0.8, 0.1),\n",
    "        'min_samples_leaf': (12,1,5,8)\n",
    "    }\n",
    "    ),\n",
    "    \n",
    "      (ExtraTreesClassifier ,\n",
    "     {\n",
    "        'n_estimators': (10,50,100), #should use high number, it is the number of decision tree\n",
    "        'max_features': (1,0.5,0.8, 0.1),\n",
    "        'min_samples_leaf': (12,1,5,8)\n",
    "    }\n",
    "    ),\n",
    "\n",
    "    (AdaBoostClassifier,\n",
    "     {\n",
    "        'n_estimators':(5,10,20,30),\n",
    "         'learning_rate': (0.5,0.1,0.001,0.0001)\n",
    "     }\n",
    "    ),\n",
    "\n",
    "\n",
    "    (GradientBoostingClassifier,\n",
    "     {\n",
    "        'n_estimators': (10,20,40,45),\n",
    "        'learning_rate': (0.05,0.1, 0.01, 0.2, 0.5),\n",
    "        'min_samples_split': (2,3,5)\n",
    "    }\n",
    "    )\n",
    "\n",
    "    ]"
   ]
  },
  {
   "cell_type": "code",
   "execution_count": 14,
   "metadata": {},
   "outputs": [],
   "source": [
    "from sklearn.metrics import f1_score\n",
    "def grid_search(classifier,param_grid,final_Xtrain, y_train, final_Xtest, y_test ):    \n",
    "    clf = GridSearchCV(classifier(random_state = 1), param_grid)\n",
    "    clf.fit(final_Xtrain, y_train)\n",
    "    print(clf.best_score_ , clf.best_params_)\n",
    "    best = clf.best_estimator_\n",
    "    #clf best estimator again trains the model in best hyperparameter\n",
    "    test_pred = best.predict(final_Xtest)\n",
    "    print(f1_score(y_test, test_pred, average='macro'))"
   ]
  },
  {
   "cell_type": "code",
   "execution_count": 15,
   "metadata": {},
   "outputs": [],
   "source": [
    "for classifier, grid_param in many_class_hyper:\n",
    "    f1_score_value = grid_search(classifier, grid_param, final_Xtrain,y_train,final_Xtest,y_test)\n",
    "    print(classifier, 'f1_score', f1_score_value)\n",
    "    \n",
    "    \n",
    "    "
   ]
  },
  {
   "cell_type": "code",
   "execution_count": 17,
   "metadata": {},
   "outputs": [
    {
     "name": "stdout",
     "output_type": "stream",
     "text": [
      "              precision    recall  f1-score   support\n",
      "\n",
      "      1-star       0.57      0.51      0.54       247\n",
      "      2-star       0.52      0.36      0.43       291\n",
      "      3-star       0.46      0.68      0.55       469\n",
      "      4-star       0.68      0.66      0.67      1759\n",
      "      5-star       0.60      0.55      0.57       912\n",
      "\n",
      "    accuracy                           0.60      3678\n",
      "   macro avg       0.56      0.55      0.55      3678\n",
      "weighted avg       0.61      0.60      0.60      3678\n",
      "\n"
     ]
    }
   ],
   "source": [
    "model = DecisionTreeClassifier()\n",
    "model.fit(final_Xtrain, y_train)\n",
    "pred_value = model.predict(final_Xtest)\n",
    "print(metrics.classification_report(y_test,pred_value))"
   ]
  },
  {
   "cell_type": "code",
   "execution_count": null,
   "metadata": {},
   "outputs": [],
   "source": []
  }
 ],
 "metadata": {
  "kernelspec": {
   "display_name": "Python 3",
   "language": "python",
   "name": "python3"
  },
  "language_info": {
   "codemirror_mode": {
    "name": "ipython",
    "version": 3
   },
   "file_extension": ".py",
   "mimetype": "text/x-python",
   "name": "python",
   "nbconvert_exporter": "python",
   "pygments_lexer": "ipython3",
   "version": "3.7.6"
  }
 },
 "nbformat": 4,
 "nbformat_minor": 4
}
