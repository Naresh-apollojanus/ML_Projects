{
 "cells": [
  {
   "cell_type": "code",
   "execution_count": 1,
   "metadata": {},
   "outputs": [],
   "source": [
    "import numpy as np\n",
    "import pandas as pd\n",
    "import matplotlib.pyplot as plt"
   ]
  },
  {
   "cell_type": "code",
   "execution_count": 2,
   "metadata": {},
   "outputs": [],
   "source": [
    "\n",
    "data_frame = pd.read_csv(\"vegetable price.csv\")\n",
    "#converting some columns from string to list\n",
    "def convertto_int(columns):\n",
    "  r = []\n",
    "  for x in columns:\n",
    "    r.append(int(x))\n",
    "  return r\n",
    "\n",
    "data_frame['न्यूनतम'] = convertto_int(data_frame['न्यूनतम'].tolist())\n",
    "data_frame['अधिकतम'] = convertto_int(data_frame['अधिकतम'].tolist())\n",
    "data_frame['औसत'] = convertto_int(data_frame['औसत'].tolist())\n",
    "#data_frame.head()"
   ]
  },
  {
   "cell_type": "code",
   "execution_count": 3,
   "metadata": {},
   "outputs": [],
   "source": [
    "data_frame.drop('अधिकतम', axis=1, inplace=True)\n",
    "\n"
   ]
  },
  {
   "cell_type": "code",
   "execution_count": 4,
   "metadata": {},
   "outputs": [],
   "source": [
    "data_frame.drop('न्यूनतम', axis=1, inplace=True)\n"
   ]
  },
  {
   "cell_type": "code",
   "execution_count": 5,
   "metadata": {},
   "outputs": [],
   "source": [
    "data_frame.rename(columns={'औसत':'Average'}, inplace=True)\n"
   ]
  },
  {
   "cell_type": "code",
   "execution_count": 6,
   "metadata": {},
   "outputs": [],
   "source": [
    "data_frame['cdate'] = pd.to_datetime(data_frame['cdate'])\n"
   ]
  },
  {
   "cell_type": "code",
   "execution_count": 7,
   "metadata": {},
   "outputs": [
    {
     "data": {
      "text/plain": [
       "0     गोलभेडा ठूलो(नेपाली)\n",
       "1             गोलभेडा सानो\n",
       "2                अालु रातो\n",
       "3                अालु सेतो\n",
       "4      प्याज सुकेको भारतीय\n",
       "              ...         \n",
       "63              लसुन हरियो\n",
       "64             हरियो धनिया\n",
       "65      लसुन सुकेको चाइनिज\n",
       "66      लसुन सुकेको नेपाली\n",
       "67               माछा ताजा\n",
       "Name: कृषि उपज, Length: 68, dtype: object"
      ]
     },
     "execution_count": 7,
     "metadata": {},
     "output_type": "execute_result"
    }
   ],
   "source": [
    "\n",
    "oneday_vegetable = data_frame[data_frame['cdate'] == '02/25/2018']\n",
    "wholesell = oneday_vegetable[oneday_vegetable['pricetype'] == 'W']\n",
    "retell = oneday_vegetable[oneday_vegetable['pricetype'] == 'R']\n",
    "#plt.bar(wholesell['कृषि उपज'], wholesell['Average'])\n",
    "wholesell['कृषि उपज']\n",
    "\n",
    "\n",
    "        "
   ]
  },
  {
   "cell_type": "code",
   "execution_count": 8,
   "metadata": {},
   "outputs": [
    {
     "data": {
      "text/plain": [
       "47"
      ]
     },
     "execution_count": 8,
     "metadata": {},
     "output_type": "execute_result"
    }
   ],
   "source": [
    "wholesell['Average'].idxmax()"
   ]
  },
  {
   "cell_type": "code",
   "execution_count": 9,
   "metadata": {},
   "outputs": [],
   "source": [
    "kagati_trend = data_frame[data_frame['कृषि उपज'] == 'कागती']\n",
    "kagati_trend = kagati_trend.reset_index( drop = True)\n",
    "kagati_trend.head()\n",
    "\n",
    "kagati_trend[kagati_trend['cdate'] == '2020-02-01']\n",
    "kagati_feb = kagati_trend.iloc[1393:, :]\n",
    "kagati_feb = kagati_feb.reset_index(drop = True)\n",
    "\n",
    "#kagati_feb"
   ]
  },
  {
   "cell_type": "code",
   "execution_count": 10,
   "metadata": {},
   "outputs": [],
   "source": [
    "kagati_wholeseller = kagati_feb[kagati_feb['pricetype'] == 'W']\n",
    "kagati_wholeseller = kagati_wholeseller.reset_index(drop = True)\n",
    "kagati_wholeseller\n",
    "kagati_reteller = kagati_feb[kagati_feb['pricetype'] == 'R']\n",
    "kagati_reteller = kagati_reteller.reset_index(drop = True)\n",
    "#kagati_wholeseller\n",
    "\n"
   ]
  },
  {
   "cell_type": "code",
   "execution_count": 11,
   "metadata": {
    "scrolled": true
   },
   "outputs": [],
   "source": [
    "#figure2, ax2 = plt.subplots()\n",
    "#plt.plot(kagati_wholeseller['cdate'], kagati_wholeseller['Average'])\n"
   ]
  },
  {
   "cell_type": "markdown",
   "metadata": {},
   "source": [
    "# Fearure selection and extraction"
   ]
  },
  {
   "cell_type": "code",
   "execution_count": 12,
   "metadata": {},
   "outputs": [],
   "source": [
    "vegetable = set(data_frame['कृषि उपज'].values)"
   ]
  },
  {
   "cell_type": "code",
   "execution_count": 13,
   "metadata": {},
   "outputs": [],
   "source": [
    "feature_df = []\n",
    "for v in vegetable:\n",
    "    for p_type in ['W', 'R']:\n",
    "        df_v = data_frame[(data_frame['कृषि उपज'] == v) & (data_frame['pricetype'] == p_type)]\n",
    "        df_v = df_v.sort_values(by = ['cdate'], ascending = False)\n",
    "        if p_type == 'W':\n",
    "            df_v['type'] = 1\n",
    "        else:\n",
    "            df_v['type'] = 0\n",
    "        df_v['oneday_before'] = df_v.shift(periods = -1)['Average']\n",
    "        df_v['twoday_before'] = df_v.shift(periods = -2)['Average']\n",
    "        feature_df.append(df_v)\n",
    "\n",
    "feature_df = pd.concat(feature_df)\n",
    "feature_df.dropna(inplace = True)\n",
    "\n",
    "        "
   ]
  },
  {
   "cell_type": "code",
   "execution_count": 14,
   "metadata": {},
   "outputs": [
    {
     "data": {
      "text/plain": [
       "array([[  1.,   1.,  75.,  75.],\n",
       "       [  1.,   1., 108., 105.],\n",
       "       [  1.,   1.,  42.,  42.],\n",
       "       ...,\n",
       "       [  1.,   1., 105., 115.],\n",
       "       [  1.,   1.,  48.,  58.],\n",
       "       [  1.,   0.,  85.,  85.]])"
      ]
     },
     "execution_count": 14,
     "metadata": {},
     "output_type": "execute_result"
    }
   ],
   "source": [
    "feature_df = feature_df.sample(frac=1, random_state=1)\n",
    "feature_df.head()\n",
    "X = feature_df[['type', 'oneday_before', 'twoday_before']].values\n",
    "X = np.insert(X,0,1,axis=1)\n",
    "X"
   ]
  },
  {
   "cell_type": "code",
   "execution_count": 15,
   "metadata": {},
   "outputs": [],
   "source": [
    "\n",
    "Y = feature_df['Average'].values"
   ]
  },
  {
   "cell_type": "code",
   "execution_count": 16,
   "metadata": {},
   "outputs": [
    {
     "data": {
      "text/plain": [
       "59293"
      ]
     },
     "execution_count": 16,
     "metadata": {},
     "output_type": "execute_result"
    }
   ],
   "source": [
    "total = len(X)\n",
    "train = int(0.6 * total)\n",
    "val = int(0.2*total)\n",
    "\n",
    "\n",
    "X_train = X[:train]\n",
    "Y_train = Y[:train].reshape(-1,1)\n",
    "\n",
    "X_val = X[train:train+val]\n",
    "Y_val = Y[train:train+val].reshape(-1,1)\n",
    "\n",
    "X_test = X[ train+val: ]\n",
    "Y_test = Y[train+val:].reshape(-1,1)\n",
    "len(X_train)\n",
    "len(Y_train)\n"
   ]
  },
  {
   "cell_type": "code",
   "execution_count": 17,
   "metadata": {},
   "outputs": [],
   "source": [
    "norm_xtrain = X_train[:, 2:]\n",
    "norm_xval = X_val[:,2:]\n",
    "norm_xtest = X_test[:,2:]\n",
    "norm_xtrain\n",
    "\n",
    "#since two features have large value so we must normalize for that we have to take min and max value from training set\n",
    "min_value = norm_xtrain.min()\n",
    "max_value = norm_xtrain.max()\n",
    "\n",
    "def normalize_function(min_val, max_val,to_normalize):\n",
    "    norm = []\n",
    "    for i in to_normalize:\n",
    "        for j in i:\n",
    "            norm.append((j-min_val)/(max_val-min_val))\n",
    "    return norm\n",
    "\n",
    "norm_xtrain = np.asarray(normalize_function(min_value, max_value, norm_xtrain)).reshape(-1,2)\n",
    "norm_xtest = np.asarray(normalize_function(min_value,max_value,norm_xtest)).reshape(-1,2)\n",
    "norm_xval = np.asarray(normalize_function(min_value,max_value,norm_xval)).reshape(-1,2)\n",
    "\n",
    "    \n",
    "    \n",
    "    \n",
    "\n",
    "\n"
   ]
  },
  {
   "cell_type": "code",
   "execution_count": 18,
   "metadata": {},
   "outputs": [],
   "source": [
    "X_train = np.concatenate((X_train[:, :2], norm_xtrain), axis = 1)\n",
    "X_val = np.concatenate((X_val[:,:2], norm_xval), axis = 1)\n",
    "X_test = np.concatenate((X_test[:,:2],norm_xtest), axis = 1)"
   ]
  },
  {
   "cell_type": "code",
   "execution_count": 19,
   "metadata": {},
   "outputs": [],
   "source": [
    "def mse(h,y):\n",
    "    return np.average((h-y)**2)\n",
    "\n"
   ]
  },
  {
   "cell_type": "code",
   "execution_count": 26,
   "metadata": {},
   "outputs": [],
   "source": [
    "\n",
    "def model_train(x,y,param,a,b):\n",
    "    np.random.seed(42)\n",
    "    w =np.random.rand(X_train.shape[1]).reshape(-1,1)\n",
    "    \n",
    "    for i in range(0, param['no_of_iteration']):\n",
    "        pred = np.matmul(X_train, w)\n",
    "        train_loss = mse(pred , Y_train)\n",
    "        #print(i,train_loss)\n",
    "        gradient = np.matmul(np.transpose( pred - Y_train), X_train)/X_train.shape[0]\n",
    "        gradient = np.transpose(gradient)\n",
    "        gradient\n",
    "        w = w - (param['learning_rate']*gradient)\n",
    "    return w\n",
    "    \n",
    "    pred_val = np.matmul(a,w)\n",
    "    val_error = mse(pred_val,Y_val)\n",
    "    print(val_error)\n",
    "    print(np.average(val_error))\n",
    "    print(param, val_error)\n",
    "        \n",
    "   #validation lost is calculated to check if model work fine, it is used after training that is it is not used to update weight\n",
    "    \n",
    "    \n",
    "        "
   ]
  },
  {
   "cell_type": "code",
   "execution_count": 21,
   "metadata": {},
   "outputs": [
    {
     "name": "stdout",
     "output_type": "stream",
     "text": [
      "309.93970341924756\n",
      "309.93970341924756\n",
      "{'no_of_iteration': 500, 'learning_rate': 0.8} 309.93970341924756\n",
      "220.15319337741593\n",
      "220.15319337741593\n",
      "{'no_of_iteration': 500, 'learning_rate': 1} 220.15319337741593\n",
      "6008.314433398116\n",
      "6008.314433398116\n",
      "{'no_of_iteration': 500, 'learning_rate': 0.01} 6008.314433398116\n",
      "160.038986864703\n",
      "160.038986864703\n",
      "{'no_of_iteration': 1000, 'learning_rate': 0.8} 160.038986864703\n",
      "154.87204854859473\n",
      "154.87204854859473\n",
      "{'no_of_iteration': 1000, 'learning_rate': 1} 154.87204854859473\n",
      "5598.255350198743\n",
      "5598.255350198743\n",
      "{'no_of_iteration': 1000, 'learning_rate': 0.01} 5598.255350198743\n",
      "175.15978595802366\n",
      "175.15978595802366\n",
      "{'no_of_iteration': 800, 'learning_rate': 0.8} 175.15978595802366\n",
      "160.02127701622294\n",
      "160.02127701622294\n",
      "{'no_of_iteration': 800, 'learning_rate': 1} 160.02127701622294\n",
      "5728.94265313703\n",
      "5728.94265313703\n",
      "{'no_of_iteration': 800, 'learning_rate': 0.01} 5728.94265313703\n"
     ]
    }
   ],
   "source": [
    "parama = {'iteration' :[500, 1000, 800],\n",
    "         'learning_rates' : [0.8, 1, 0.01]}\n",
    "        \n",
    " \n",
    "for i in parama['iteration']:\n",
    "    for j in parama['learning_rates']:\n",
    "       param = {\n",
    "           'no_of_iteration' : i,\n",
    "           'learning_rate' : j\n",
    "       }\n",
    "        \n",
    "       model_train(X_train, Y_train,param, X_val, Y_val)\n",
    "       \n"
   ]
  },
  {
   "cell_type": "code",
   "execution_count": 27,
   "metadata": {},
   "outputs": [
    {
     "data": {
      "text/plain": [
       "0.9754860431250907"
      ]
     },
     "execution_count": 27,
     "metadata": {},
     "output_type": "execute_result"
    }
   ],
   "source": [
    "# #Test set\n",
    "\n",
    "n = X_test.shape[0]\n",
    "k = X_test.shape[1] - 1\n",
    "parameter = {\n",
    "    'no_of_iteration':1000,\n",
    "    'learning_rate':1\n",
    "}\n",
    "weight_test = model_train(X_train,Y_train,parameter,X_val, Y_val)\n",
    "weight_test\n",
    "pred = np.matmul(X_test, weight_test)\n",
    "sse = mse(pred, Y_test)\n",
    "sse\n",
    "Y_test_mean = np.mean(Y_test)\n",
    "Y_test_mean\n",
    "sst = mse(Y_test_mean, Y_test)\n",
    "r2_1 = sse/(n-k-1)\n",
    "r2_2 = sst/(n-1)\n",
    "R_2score = 1 - (r2_1/r2_2)\n",
    "R2 = 1-(sse/sst)\n",
    "#R_2score\n",
    "R2\n",
    "\n"
   ]
  },
  {
   "cell_type": "code",
   "execution_count": null,
   "metadata": {},
   "outputs": [],
   "source": []
  }
 ],
 "metadata": {
  "kernelspec": {
   "display_name": "Python 3",
   "language": "python",
   "name": "python3"
  },
  "language_info": {
   "codemirror_mode": {
    "name": "ipython",
    "version": 3
   },
   "file_extension": ".py",
   "mimetype": "text/x-python",
   "name": "python",
   "nbconvert_exporter": "python",
   "pygments_lexer": "ipython3",
   "version": "3.7.6"
  }
 },
 "nbformat": 4,
 "nbformat_minor": 4
}
