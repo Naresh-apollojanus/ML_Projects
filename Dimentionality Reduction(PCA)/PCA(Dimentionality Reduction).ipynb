{
 "cells": [
  {
   "cell_type": "code",
   "execution_count": 1,
   "metadata": {},
   "outputs": [],
   "source": [
    "import matplotlib.pyplot as plt\n",
    "import numpy as np\n",
    "import pandas as pd\n",
    "from scipy.linalg import eigh\n",
    "from sklearn.datasets  import load_digits"
   ]
  },
  {
   "cell_type": "code",
   "execution_count": 2,
   "metadata": {},
   "outputs": [
    {
     "data": {
      "text/plain": [
       "(1797, 8, 8)"
      ]
     },
     "execution_count": 2,
     "metadata": {},
     "output_type": "execute_result"
    }
   ],
   "source": [
    "mnist = load_digits()\n",
    "data = mnist['images']\n",
    "data.shape\n"
   ]
  },
  {
   "cell_type": "code",
   "execution_count": 3,
   "metadata": {},
   "outputs": [
    {
     "data": {
      "text/plain": [
       "(1797, 64)"
      ]
     },
     "execution_count": 3,
     "metadata": {},
     "output_type": "execute_result"
    }
   ],
   "source": [
    "data = data.reshape(data.shape[0], -1)\n",
    "data.shape"
   ]
  },
  {
   "cell_type": "code",
   "execution_count": 4,
   "metadata": {},
   "outputs": [
    {
     "data": {
      "text/plain": [
       "(64,)"
      ]
     },
     "execution_count": 4,
     "metadata": {},
     "output_type": "execute_result"
    }
   ],
   "source": [
    "mean_vec = np.mean(data, axis=0)\n",
    "mean_vec.shape"
   ]
  },
  {
   "cell_type": "code",
   "execution_count": 5,
   "metadata": {},
   "outputs": [],
   "source": [
    "data_norm = data - mean_vec\n",
    "covariance_matrix = (data_norm).T.dot((data_norm))/(data_norm.shape[0])\n",
    "covariance_matrix = np.cov(data_norm.T)\n",
    "eigen_values, eigen_vectors = eigh(covariance_matrix)\n",
    "#eigen_vectors"
   ]
  },
  {
   "cell_type": "code",
   "execution_count": 6,
   "metadata": {},
   "outputs": [],
   "source": [
    "eigen_values = np.flip(eigen_values)\n",
    "#eigen_values"
   ]
  },
  {
   "cell_type": "code",
   "execution_count": 7,
   "metadata": {},
   "outputs": [],
   "source": [
    "eigen_vectors = np.flip(eigen_vectors,0)\n",
    "#eigen_vectors"
   ]
  },
  {
   "cell_type": "code",
   "execution_count": 8,
   "metadata": {},
   "outputs": [],
   "source": [
    "num_of_component = 2\n",
    "first_eigenvalue = eigen_values[0:2]\n",
    "first_eigenvalue\n",
    "first_eigenvector = eigen_vectors[0:2]\n",
    "#first_eigenvector\n",
    "\n"
   ]
  },
  {
   "cell_type": "code",
   "execution_count": 9,
   "metadata": {},
   "outputs": [
    {
     "data": {
      "text/plain": [
       "array([[ -9.36574346,   1.23918543],\n",
       "       [  4.22625746,  -1.12187157],\n",
       "       [ -6.54640465,  -3.55103648],\n",
       "       ...,\n",
       "       [ -9.70247758,  -3.77109445],\n",
       "       [ -9.04072961,  -0.67336332],\n",
       "       [-13.24065139,  -8.21444414]])"
      ]
     },
     "execution_count": 9,
     "metadata": {},
     "output_type": "execute_result"
    }
   ],
   "source": [
    "dimension_red_data = np.matmul(data,(np.transpose(first_eigenvector)))\n",
    "dimension_red_data"
   ]
  },
  {
   "cell_type": "code",
   "execution_count": 10,
   "metadata": {},
   "outputs": [],
   "source": [
    "df_low_dimen = pd.DataFrame(dimension_red_data,columns=['x','y'])"
   ]
  },
  {
   "cell_type": "code",
   "execution_count": 11,
   "metadata": {},
   "outputs": [],
   "source": [
    "targets = mnist['target']\n",
    "plt.scatter(df_low_dimen['x'],df_low_dimen['y'], c = mnist['target'])\n",
    "plt.title('2-D view of Data points')\n",
    "plt.xlabel('1-principal component')\n",
    "plt.ylabel('2-princial component')\n",
    "plt.rcParams['figure.figsize'] = (15,12)\n",
    "plt.grid()\n",
    "#plt.legend()\n"
   ]
  },
  {
   "cell_type": "code",
   "execution_count": 12,
   "metadata": {},
   "outputs": [],
   "source": [
    "\n",
    "#explained varience\n",
    "explained_varience = []\n",
    "for i in eigen_values:\n",
    "    explained_varience.append(abs(i)/sum(eigen_values))\n",
    "\n",
    "    "
   ]
  },
  {
   "cell_type": "code",
   "execution_count": 13,
   "metadata": {},
   "outputs": [],
   "source": [
    "cum_eigenvalues = np.cumsum(explained_varience)\n",
    "#cum_eigenvalues"
   ]
  },
  {
   "cell_type": "code",
   "execution_count": 14,
   "metadata": {},
   "outputs": [
    {
     "data": {
      "text/plain": [
       "Text(0.5, 1.0, 'Explained varience')"
      ]
     },
     "execution_count": 14,
     "metadata": {},
     "output_type": "execute_result"
    },
    {
     "data": {
      "image/png": "[encoded data removed]",
      "text/plain": [
       "<Figure size 1800x576 with 1 Axes>"
      ]
     },
     "metadata": {
      "needs_background": "light"
     },
     "output_type": "display_data"
    }
   ],
   "source": [
    "plt.figure(figsize = (25,8))\n",
    "plt.plot(cum_eigenvalues, marker='o', color = 'b')\n",
    "plt.axhline(y=0.9, color = 'r')\n",
    "plt.xticks(np.arange(0, 64, step =1))\n",
    "plt.xlabel('no of component')\n",
    "plt.ylabel('varience in %')\n",
    "plt.grid()\n",
    "plt.title('Explained varience')\n"
   ]
  },
  {
   "cell_type": "code",
   "execution_count": 15,
   "metadata": {},
   "outputs": [
    {
     "data": {
      "text/plain": [
       "0.9111697327690564"
      ]
     },
     "execution_count": 15,
     "metadata": {},
     "output_type": "execute_result"
    }
   ],
   "source": [
    "no_of_component= explained_varience[0:22]\n",
    "total_varince = sum(no_of_component)\n",
    "total_varince\n"
   ]
  },
  {
   "cell_type": "markdown",
   "metadata": {},
   "source": [
    "# Conclusion"
   ]
  },
  {
   "cell_type": "markdown",
   "metadata": {},
   "source": [
    "Hence, when we choose number of component 21, 91% of information is preserved, as seen in the above graph."
   ]
  }
 ],
 "metadata": {
  "kernelspec": {
   "display_name": "Python 3",
   "language": "python",
   "name": "python3"
  },
  "language_info": {
   "codemirror_mode": {
    "name": "ipython",
    "version": 3
   },
   "file_extension": ".py",
   "mimetype": "text/x-python",
   "name": "python",
   "nbconvert_exporter": "python",
   "pygments_lexer": "ipython3",
   "version": "3.7.6"
  }
 },
 "nbformat": 4,
 "nbformat_minor": 4
}
