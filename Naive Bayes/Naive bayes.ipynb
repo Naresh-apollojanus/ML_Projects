{
 "cells": [
  {
   "cell_type": "code",
   "execution_count": 1,
   "metadata": {},
   "outputs": [],
   "source": [
    "import  pandas as pd"
   ]
  },
  {
   "cell_type": "code",
   "execution_count": 2,
   "metadata": {},
   "outputs": [],
   "source": [
    "df = pd.DataFrame([('Movie was good', 1),\n",
    "                   ('It was good', 1),\n",
    "                   ('It was awesome', 1),\n",
    "                   ('I was bored', 0),\n",
    "                   ('It was bad', 0),\n",
    "                   ('It was poor', 0),\n",
    "                   ('Worst movie ever', 0)]\n",
    "                  , columns=['Phrase', 'label'])\n",
    "\n"
   ]
  },
  {
   "cell_type": "code",
   "execution_count": 3,
   "metadata": {},
   "outputs": [
    {
     "data": {
      "text/plain": [
       "{'awesome',\n",
       " 'bad',\n",
       " 'bored',\n",
       " 'ever',\n",
       " 'good',\n",
       " 'i',\n",
       " 'it',\n",
       " 'movie',\n",
       " 'poor',\n",
       " 'was',\n",
       " 'worst'}"
      ]
     },
     "execution_count": 3,
     "metadata": {},
     "output_type": "execute_result"
    }
   ],
   "source": [
    "voca = []\n",
    "for i in df['Phrase']:\n",
    "    voca.extend(i.lower().split(' '))\n",
    "voca = set(voca)\n",
    "voca\n",
    "\n",
    "    "
   ]
  },
  {
   "cell_type": "code",
   "execution_count": 4,
   "metadata": {},
   "outputs": [
    {
     "name": "stdout",
     "output_type": "stream",
     "text": [
      "['movie', 'was', 'good', 'it', 'was', 'good', 'it', 'was', 'awesome']\n",
      "['i', 'was', 'bored', 'it', 'was', 'bad', 'it', 'was', 'poor', 'worst', 'movie', 'ever']\n"
     ]
    }
   ],
   "source": [
    "df_label = df.values\n",
    "pos_one = []\n",
    "neg_zero = []\n",
    "for i in df_label:\n",
    "    if 1 in i:\n",
    "        pos_one.extend(i[0].lower().split(' '))\n",
    "    else:\n",
    "        neg_zero.extend(i[0].lower().split(' '))\n",
    "#neg_zero = neg_zero\n",
    "#pos_one = pos_one\n",
    "print(pos_one)\n",
    "print(neg_zero)"
   ]
  },
  {
   "cell_type": "code",
   "execution_count": 5,
   "metadata": {},
   "outputs": [
    {
     "name": "stdout",
     "output_type": "stream",
     "text": [
      "good\n",
      "movie\n",
      "poor\n",
      "was\n",
      "worst\n",
      "bored\n",
      "bad\n",
      "i\n",
      "awesome\n",
      "ever\n",
      "it\n"
     ]
    }
   ],
   "source": [
    "neg_pos = pos_one, neg_zero\n",
    "alpha = 1\n",
    "prob_pos = []\n",
    "prob_neg = []\n",
    "\n",
    "\n",
    "\n",
    "for i in voca:\n",
    "    print(i)\n",
    "    for pos in neg_pos:\n",
    "        if pos == pos_one:\n",
    "            count_pos = 0\n",
    "            for k in pos:\n",
    "                if i == k:\n",
    "                    count_pos = count_pos + 1\n",
    "            #print(count_pos)\n",
    "            prob_pos.append(((count_pos + alpha)/(len(pos) + (alpha*len(voca)))))\n",
    "            #print(prob_pos)\n",
    "        else:\n",
    "            count_neg = 0\n",
    "            for k in pos:\n",
    "                if i == k:\n",
    "                    count_neg = count_neg + 1\n",
    "            #print(count_neg)\n",
    "            prob_neg.append(((count_neg + alpha)/(len(pos) + (alpha*len(voca)))))\n",
    "            #print(prob_neg)  \n",
    "            "
   ]
  },
  {
   "cell_type": "code",
   "execution_count": 6,
   "metadata": {},
   "outputs": [
    {
     "name": "stdout",
     "output_type": "stream",
     "text": [
      "[0.15, 0.1, 0.05, 0.2, 0.05, 0.05, 0.05, 0.05, 0.1, 0.05, 0.15]\n",
      "[0.043478260869565216, 0.08695652173913043, 0.08695652173913043, 0.17391304347826086, 0.08695652173913043, 0.08695652173913043, 0.08695652173913043, 0.08695652173913043, 0.043478260869565216, 0.08695652173913043, 0.13043478260869565]\n"
     ]
    }
   ],
   "source": [
    "print(prob_pos)\n",
    "print(prob_neg)"
   ]
  }
 ],
 "metadata": {
  "kernelspec": {
   "display_name": "Python 3",
   "language": "python",
   "name": "python3"
  },
  "language_info": {
   "codemirror_mode": {
    "name": "ipython",
    "version": 3
   },
   "file_extension": ".py",
   "mimetype": "text/x-python",
   "name": "python",
   "nbconvert_exporter": "python",
   "pygments_lexer": "ipython3",
   "version": "3.7.6"
  }
 },
 "nbformat": 4,
 "nbformat_minor": 4
}
