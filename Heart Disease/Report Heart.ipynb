{
 "cells": [
  {
   "cell_type": "code",
   "execution_count": 1,
   "metadata": {},
   "outputs": [],
   "source": [
    "import pandas as pd\n",
    "import numpy as np\n",
    "import matplotlib.pyplot as plt"
   ]
  },
  {
   "cell_type": "code",
   "execution_count": 2,
   "metadata": {},
   "outputs": [],
   "source": [
    "df_xtrain = pd.read_csv('Heart_train.csv')\n",
    "df_xtest = pd.read_csv('Heart_test.csv')\n",
    "X_train = df_xtrain.drop(columns = 'target') \n",
    "y_train = df_xtrain['target']\n",
    "X_test = df_xtest.drop(columns = 'target') \n",
    "y_test = df_xtest['target']\n",
    "\n",
    "\n"
   ]
  },
  {
   "cell_type": "code",
   "execution_count": 3,
   "metadata": {},
   "outputs": [
    {
     "name": "stdout",
     "output_type": "stream",
     "text": [
      "1    165\n",
      "0    138\n",
      "Name: target, dtype: int64\n"
     ]
    }
   ],
   "source": [
    "df = pd.concat([df_xtrain, df_xtest])\n",
    "print(df['target'].value_counts())\n",
    "#this means 165 records with  having heart disease, 138 not having the disease"
   ]
  },
  {
   "cell_type": "markdown",
   "metadata": {},
   "source": [
    "first i am checking if there are any null values in our dataset"
   ]
  },
  {
   "cell_type": "code",
   "execution_count": 4,
   "metadata": {},
   "outputs": [],
   "source": [
    "# df.isnull().sum()"
   ]
  },
  {
   "cell_type": "markdown",
   "metadata": {},
   "source": [
    "Secondly i am checking the ratios of affected vs non affected"
   ]
  },
  {
   "cell_type": "code",
   "execution_count": 5,
   "metadata": {},
   "outputs": [
    {
     "data": {
      "text/plain": [
       "1    165\n",
       "0    138\n",
       "Name: target, dtype: int64"
      ]
     },
     "execution_count": 5,
     "metadata": {},
     "output_type": "execute_result"
    }
   ],
   "source": [
    "df['target'].value_counts() "
   ]
  },
  {
   "cell_type": "code",
   "execution_count": 6,
   "metadata": {
    "scrolled": false
   },
   "outputs": [
    {
     "name": "stdout",
     "output_type": "stream",
     "text": [
      "1    93\n",
      "0    72\n",
      "Name: sex, dtype: int64\n"
     ]
    }
   ],
   "source": [
    "df_tar_0 = df[df['target'] == 1]\n",
    "x = ['men', 'women']\n",
    "y = (93,72)\n",
    "print(df_tar_0['sex'].value_counts())\n",
    "#plt.bar(x,y)\n",
    "#plt.title('Comparision Between Gender having Heart Disease')\n",
    "#plt.xlabel('sex')\n",
    "#plt.ylabel('Counts')\n",
    "#df_tar_0\n"
   ]
  },
  {
   "cell_type": "code",
   "execution_count": 7,
   "metadata": {},
   "outputs": [
    {
     "data": {
      "text/plain": [
       "Text(0.5, 1.0, 'Age Distribution on presence of Heart Disease')"
      ]
     },
     "execution_count": 7,
     "metadata": {},
     "output_type": "execute_result"
    },
    {
     "data": {
      "image/png": "[encoded data removed]",
      "text/plain": [
       "<Figure size 432x288 with 1 Axes>"
      ]
     },
     "metadata": {
      "needs_background": "light"
     },
     "output_type": "display_data"
    }
   ],
   "source": [
    "#y = [1,3,1,2,3]\n",
    "#y = [2,3,4]\n",
    "#plt.bar(df['age'], df['age'].value_counts())\n",
    "#x = ['naresh', 'sharma', 'keshab']\n",
    "plt.hist(df_tar_0['age'], bins=15, histtype='bar')\n",
    "plt.xlabel('age distribution')\n",
    "plt.ylabel('Counts')\n",
    "plt.title('Age Distribution on presence of Heart Disease')\n",
    "#df_tar_0['age'].value_counts()"
   ]
  },
  {
   "cell_type": "code",
   "execution_count": 8,
   "metadata": {},
   "outputs": [
    {
     "name": "stdout",
     "output_type": "stream",
     "text": [
      "['age', 'sex', 'trestbps', 'chol', 'fbs', 'restecg', 'thalach', 'oldpeak', 'ca']\n"
     ]
    }
   ],
   "source": [
    "#converting categorical data in binary form using one hot encoder\n",
    "cat_columns = ['cp', 'exang', 'slope', 'thal']\n",
    "num_columns = [c for c in X_train if c not in cat_columns]\n",
    "print(num_columns)\n",
    "#X_train[num_columns]\n"
   ]
  },
  {
   "cell_type": "code",
   "execution_count": 9,
   "metadata": {
    "scrolled": true
   },
   "outputs": [],
   "source": [
    "from sklearn.preprocessing import OneHotEncoder\n",
    "encoder = OneHotEncoder(handle_unknown='ignore')\n",
    "encoder.fit(X_train[cat_columns])\n",
    "encoded_category_train = encoder.transform(X_train[cat_columns])\n",
    "columns_names = encoder.get_feature_names(input_features= cat_columns)\n",
    "#print(columns_names)\n",
    "encoded_category_train.todense()\n",
    "encoded_category_train_ = pd.DataFrame(encoded_category_train.todense(), columns=columns_names, index=X_train.index)\n",
    "encoded_category_train\n",
    "final_Xtrain = pd.concat([X_train[num_columns], encoded_category_train_], axis=1)\n",
    "#final_Xtrain\n"
   ]
  },
  {
   "cell_type": "code",
   "execution_count": 10,
   "metadata": {},
   "outputs": [],
   "source": [
    "encoded_category_test = encoder.transform(X_test[cat_columns])\n",
    "encoded_category_test_ = pd.DataFrame(encoded_category_test.todense(), columns=columns_names, index=X_test.index)\n",
    "final_Xtest = pd.concat([X_test[num_columns], encoded_category_test_], axis=1)\n",
    "#final_Xtest"
   ]
  },
  {
   "cell_type": "markdown",
   "metadata": {},
   "source": [
    "preprocessing is done to convert categorical value to numerical value, we use one hot encoder for preprocessing()"
   ]
  },
  {
   "cell_type": "code",
   "execution_count": 11,
   "metadata": {},
   "outputs": [],
   "source": [
    "from sklearn.tree import DecisionTreeClassifier\n",
    "from sklearn.ensemble import RandomForestClassifier, ExtraTreesClassifier, AdaBoostClassifier, GradientBoostingClassifier\n",
    "from sklearn.model_selection import GridSearchCV\n",
    "from sklearn import metrics\n",
    "from sklearn.metrics import accuracy_score\n",
    "from sklearn.svm import SVC"
   ]
  },
  {
   "cell_type": "code",
   "execution_count": 12,
   "metadata": {},
   "outputs": [
    {
     "name": "stdout",
     "output_type": "stream",
     "text": [
      "              precision    recall  f1-score   support\n",
      "\n",
      "           0       0.69      0.39      0.50        28\n",
      "           1       0.62      0.85      0.72        33\n",
      "\n",
      "    accuracy                           0.64        61\n",
      "   macro avg       0.65      0.62      0.61        61\n",
      "weighted avg       0.65      0.64      0.62        61\n",
      "\n"
     ]
    }
   ],
   "source": [
    "#training the model with default hyperparameter\n",
    "model = SVC()\n",
    "model.fit(final_Xtrain, y_train)\n",
    "#in default c =1, kernel ='rbf'\n",
    "pred_y = model.predict(final_Xtest)\n",
    "print(metrics.classification_report(y_test, pred_y))\n"
   ]
  },
  {
   "cell_type": "code",
   "execution_count": 13,
   "metadata": {},
   "outputs": [],
   "source": [
    "many_class_hyper = [\n",
    "\n",
    "    (SVC,\n",
    "     {\n",
    "        'kernel':('linear', 'rbf'), 'C': (1,10,5)\n",
    "     }\n",
    "    ),\n",
    "\n",
    "\n",
    "    (DecisionTreeClassifier,\n",
    "     {\n",
    "        'max_depth': (2,3,5,8,6,4),\n",
    "         'min_samples_leaf' : (12, 8, 2,14) #5% of 242\n",
    "     }\n",
    "    ), \n",
    "\n",
    "\n",
    "\n",
    "    (RandomForestClassifier ,\n",
    "     {\n",
    "        'n_estimators': (10,50,100), \n",
    "        'max_features': (1,0.5,0.8, 0.1),\n",
    "        'min_samples_leaf': (12,1,5,8)\n",
    "    }\n",
    "    ),\n",
    "    \n",
    "      (ExtraTreesClassifier ,\n",
    "     {\n",
    "        'n_estimators': (10,50,100), #should use high number, it is the number of decision tree\n",
    "        'max_features': (1,0.5,0.8, 0.1),\n",
    "        'min_samples_leaf': (12,1,5,8)\n",
    "    }\n",
    "    ),\n",
    "\n",
    "    (AdaBoostClassifier,\n",
    "     {\n",
    "        'n_estimators':(5,10,20,30),\n",
    "         'learning_rate': (0.5,0.1,0.001,0.0001)\n",
    "     }\n",
    "    ),\n",
    "\n",
    "\n",
    "    (GradientBoostingClassifier,\n",
    "     {\n",
    "        'n_estimators': (10,20,40,45),\n",
    "        'learning_rate': (0.05,0.1, 0.01, 0.2, 0.5),\n",
    "        'min_samples_split': (2,3,5)\n",
    "    }\n",
    "    )\n",
    "\n",
    "    ]"
   ]
  },
  {
   "cell_type": "code",
   "execution_count": 14,
   "metadata": {},
   "outputs": [],
   "source": [
    "from sklearn.metrics import f1_score\n",
    "def grid_search(classifier, param, final_Xtrain, y_train, final_Xtest, y_test ):    \n",
    "    clf = GridSearchCV(classifier(random_state = 1), param)\n",
    "    clf.fit(final_Xtrain, y_train)\n",
    "    #i want to see all the validation report how c = 1 and kernel rbf selected\n",
    "    #here i am little confused how best score works\n",
    "    #without best score c:1 and kernel:linear was coming\n",
    "    print(clf.best_score_ , clf.best_params_)\n",
    "    best = clf.best_estimator_\n",
    "    #clf best estimator again trains the model in best hyperparameter\n",
    "    test_pred = best.predict(final_Xtest)\n",
    "    return accuracy_score(y_test, test_pred)\n",
    "    \n",
    "    #print(metrics.classification_report(y_test, test_pred))\n",
    "    #it is giving c:1 and kernel:linear (means margin is more.), as c value increase margin decrease  \n",
    "    #i want prove of how when c = 1 then training accuracy decrease and when c =10 training accuracy increase \n",
    "    #print(mac(y_test,test_pred ))\n",
    "    #print(f1_score(y_test, test_pred, average='macro'))\n"
   ]
  },
  {
   "cell_type": "code",
   "execution_count": null,
   "metadata": {},
   "outputs": [],
   "source": []
  }
 ],
 "metadata": {
  "kernelspec": {
   "display_name": "Python 3",
   "language": "python",
   "name": "python3"
  },
  "language_info": {
   "codemirror_mode": {
    "name": "ipython",
    "version": 3
   },
   "file_extension": ".py",
   "mimetype": "text/x-python",
   "name": "python",
   "nbconvert_exporter": "python",
   "pygments_lexer": "ipython3",
   "version": "3.7.6"
  }
 },
 "nbformat": 4,
 "nbformat_minor": 4
}
